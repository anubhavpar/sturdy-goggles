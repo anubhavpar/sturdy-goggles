{
 "cells": [
  {
   "cell_type": "markdown",
   "metadata": {},
   "source": [
    "This notebook will be for data cleaning"
   ]
  },
  {
   "cell_type": "code",
   "execution_count": 1,
   "metadata": {},
   "outputs": [],
   "source": [
    "import pandas as pd"
   ]
  },
  {
   "cell_type": "code",
   "execution_count": 3,
   "metadata": {},
   "outputs": [],
   "source": [
    "mta = pd.read_csv('https://data.ny.gov/api/views/ypri-5iwa/rows.csv?accessType=DOWNLOAD&sorting=true')"
   ]
  },
  {
   "cell_type": "code",
   "execution_count": 4,
   "metadata": {},
   "outputs": [
    {
     "data": {
      "text/html": [
       "<div>\n",
       "<style scoped>\n",
       "    .dataframe tbody tr th:only-of-type {\n",
       "        vertical-align: middle;\n",
       "    }\n",
       "\n",
       "    .dataframe tbody tr th {\n",
       "        vertical-align: top;\n",
       "    }\n",
       "\n",
       "    .dataframe thead th {\n",
       "        text-align: right;\n",
       "    }\n",
       "</style>\n",
       "<table border=\"1\" class=\"dataframe\">\n",
       "  <thead>\n",
       "    <tr style=\"text-align: right;\">\n",
       "      <th></th>\n",
       "      <th>C/A</th>\n",
       "      <th>UNIT</th>\n",
       "      <th>SCP</th>\n",
       "      <th>STATION</th>\n",
       "      <th>LINENAME</th>\n",
       "      <th>DIVISION</th>\n",
       "      <th>DATE</th>\n",
       "      <th>TIME</th>\n",
       "      <th>DESC</th>\n",
       "      <th>ENTRIES</th>\n",
       "      <th>EXITS</th>\n",
       "    </tr>\n",
       "  </thead>\n",
       "  <tbody>\n",
       "    <tr>\n",
       "      <th>0</th>\n",
       "      <td>A002</td>\n",
       "      <td>R051</td>\n",
       "      <td>02-00-00</td>\n",
       "      <td>59 ST</td>\n",
       "      <td>NQR456W</td>\n",
       "      <td>BMT</td>\n",
       "      <td>08/31/2019 12:00:00 AM</td>\n",
       "      <td>00:00:00</td>\n",
       "      <td>REGULAR</td>\n",
       "      <td>7183242</td>\n",
       "      <td>2433142</td>\n",
       "    </tr>\n",
       "    <tr>\n",
       "      <th>1</th>\n",
       "      <td>A002</td>\n",
       "      <td>R051</td>\n",
       "      <td>02-00-00</td>\n",
       "      <td>59 ST</td>\n",
       "      <td>NQR456W</td>\n",
       "      <td>BMT</td>\n",
       "      <td>08/31/2019 12:00:00 AM</td>\n",
       "      <td>04:00:00</td>\n",
       "      <td>REGULAR</td>\n",
       "      <td>7183258</td>\n",
       "      <td>2433149</td>\n",
       "    </tr>\n",
       "    <tr>\n",
       "      <th>2</th>\n",
       "      <td>A002</td>\n",
       "      <td>R051</td>\n",
       "      <td>02-00-00</td>\n",
       "      <td>59 ST</td>\n",
       "      <td>NQR456W</td>\n",
       "      <td>BMT</td>\n",
       "      <td>08/31/2019 12:00:00 AM</td>\n",
       "      <td>08:00:00</td>\n",
       "      <td>REGULAR</td>\n",
       "      <td>7183278</td>\n",
       "      <td>2433176</td>\n",
       "    </tr>\n",
       "    <tr>\n",
       "      <th>3</th>\n",
       "      <td>A002</td>\n",
       "      <td>R051</td>\n",
       "      <td>02-00-00</td>\n",
       "      <td>59 ST</td>\n",
       "      <td>NQR456W</td>\n",
       "      <td>BMT</td>\n",
       "      <td>08/31/2019 12:00:00 AM</td>\n",
       "      <td>12:00:00</td>\n",
       "      <td>REGULAR</td>\n",
       "      <td>7183393</td>\n",
       "      <td>2433262</td>\n",
       "    </tr>\n",
       "    <tr>\n",
       "      <th>4</th>\n",
       "      <td>A002</td>\n",
       "      <td>R051</td>\n",
       "      <td>02-00-00</td>\n",
       "      <td>59 ST</td>\n",
       "      <td>NQR456W</td>\n",
       "      <td>BMT</td>\n",
       "      <td>08/31/2019 12:00:00 AM</td>\n",
       "      <td>16:00:00</td>\n",
       "      <td>REGULAR</td>\n",
       "      <td>7183572</td>\n",
       "      <td>2433312</td>\n",
       "    </tr>\n",
       "  </tbody>\n",
       "</table>\n",
       "</div>"
      ],
      "text/plain": [
       "    C/A  UNIT       SCP STATION LINENAME DIVISION                    DATE  \\\n",
       "0  A002  R051  02-00-00   59 ST  NQR456W      BMT  08/31/2019 12:00:00 AM   \n",
       "1  A002  R051  02-00-00   59 ST  NQR456W      BMT  08/31/2019 12:00:00 AM   \n",
       "2  A002  R051  02-00-00   59 ST  NQR456W      BMT  08/31/2019 12:00:00 AM   \n",
       "3  A002  R051  02-00-00   59 ST  NQR456W      BMT  08/31/2019 12:00:00 AM   \n",
       "4  A002  R051  02-00-00   59 ST  NQR456W      BMT  08/31/2019 12:00:00 AM   \n",
       "\n",
       "       TIME     DESC  ENTRIES    EXITS  \n",
       "0  00:00:00  REGULAR  7183242  2433142  \n",
       "1  04:00:00  REGULAR  7183258  2433149  \n",
       "2  08:00:00  REGULAR  7183278  2433176  \n",
       "3  12:00:00  REGULAR  7183393  2433262  \n",
       "4  16:00:00  REGULAR  7183572  2433312  "
      ]
     },
     "execution_count": 4,
     "metadata": {},
     "output_type": "execute_result"
    }
   ],
   "source": [
    "mta.head()"
   ]
  },
  {
   "cell_type": "code",
   "execution_count": 5,
   "metadata": {},
   "outputs": [],
   "source": [
    "#removing unnecessary columns\n",
    "mta.drop(['C/A', 'UNIT', 'SCP', 'STATION', 'LINENAME','DIVISION','DESC'],\n",
    "        inplace=True,\n",
    "        axis=1)"
   ]
  },
  {
   "cell_type": "code",
   "execution_count": 11,
   "metadata": {},
   "outputs": [
    {
     "data": {
      "text/plain": [
       "DATE       0\n",
       "TIME       0\n",
       "ENTRIES    0\n",
       "EXITS      0\n",
       "dtype: int64"
      ]
     },
     "execution_count": 11,
     "metadata": {},
     "output_type": "execute_result"
    }
   ],
   "source": [
    "# checking for null data (horay there isn't any)\n",
    "mta.isna().sum()"
   ]
  },
  {
   "cell_type": "code",
   "execution_count": 12,
   "metadata": {},
   "outputs": [
    {
     "data": {
      "text/plain": [
       "0           08/31/2019 12:00:00 AM\n",
       "1           08/31/2019 12:00:00 AM\n",
       "2           08/31/2019 12:00:00 AM\n",
       "3           08/31/2019 12:00:00 AM\n",
       "4           08/31/2019 12:00:00 AM\n",
       "                     ...          \n",
       "16233622    01/01/2021 12:00:00 AM\n",
       "16233623    01/01/2021 12:00:00 AM\n",
       "16233624    01/01/2021 12:00:00 AM\n",
       "16233625    01/01/2021 12:00:00 AM\n",
       "16233626    01/01/2021 12:00:00 AM\n",
       "Name: DATE, Length: 16233627, dtype: object"
      ]
     },
     "execution_count": 12,
     "metadata": {},
     "output_type": "execute_result"
    }
   ],
   "source": [
    "#simplifying the date column (removing timestamp)\n",
    "mta['DATE'].()"
   ]
  },
  {
   "cell_type": "code",
   "execution_count": null,
   "metadata": {},
   "outputs": [],
   "source": []
  }
 ],
 "metadata": {
  "kernelspec": {
   "display_name": "Python 3",
   "language": "python",
   "name": "python3"
  },
  "language_info": {
   "codemirror_mode": {
    "name": "ipython",
    "version": 3
   },
   "file_extension": ".py",
   "mimetype": "text/x-python",
   "name": "python",
   "nbconvert_exporter": "python",
   "pygments_lexer": "ipython3",
   "version": "3.8.5"
  }
 },
 "nbformat": 4,
 "nbformat_minor": 4
}
