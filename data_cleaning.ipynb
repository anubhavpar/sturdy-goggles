{
 "cells": [
  {
   "cell_type": "markdown",
   "metadata": {},
   "source": [
    "This notebook will be for data cleaning"
   ]
  },
  {
   "cell_type": "code",
   "execution_count": 1,
   "metadata": {},
   "outputs": [],
   "source": [
    "import pandas as pd"
   ]
  },
  {
   "cell_type": "code",
   "execution_count": 3,
   "metadata": {},
   "outputs": [],
   "source": [
    "mta = pd.read_csv('https://data.ny.gov/api/views/ypri-5iwa/rows.csv?accessType=DOWNLOAD&sorting=true')"
   ]
  },
  {
   "cell_type": "code",
   "execution_count": 21,
   "metadata": {},
   "outputs": [
    {
     "data": {
      "text/html": [
       "<div>\n",
       "<style scoped>\n",
       "    .dataframe tbody tr th:only-of-type {\n",
       "        vertical-align: middle;\n",
       "    }\n",
       "\n",
       "    .dataframe tbody tr th {\n",
       "        vertical-align: top;\n",
       "    }\n",
       "\n",
       "    .dataframe thead th {\n",
       "        text-align: right;\n",
       "    }\n",
       "</style>\n",
       "<table border=\"1\" class=\"dataframe\">\n",
       "  <thead>\n",
       "    <tr style=\"text-align: right;\">\n",
       "      <th></th>\n",
       "      <th>DATE</th>\n",
       "      <th>TIME</th>\n",
       "      <th>ENTRIES</th>\n",
       "      <th>EXITS</th>\n",
       "    </tr>\n",
       "  </thead>\n",
       "  <tbody>\n",
       "    <tr>\n",
       "      <th>16233622</th>\n",
       "      <td>01/01/2021 12:00:00 AM</td>\n",
       "      <td>04:00:00</td>\n",
       "      <td>5554</td>\n",
       "      <td>541</td>\n",
       "    </tr>\n",
       "    <tr>\n",
       "      <th>16233623</th>\n",
       "      <td>01/01/2021 12:00:00 AM</td>\n",
       "      <td>08:00:00</td>\n",
       "      <td>5554</td>\n",
       "      <td>541</td>\n",
       "    </tr>\n",
       "    <tr>\n",
       "      <th>16233624</th>\n",
       "      <td>01/01/2021 12:00:00 AM</td>\n",
       "      <td>12:00:00</td>\n",
       "      <td>5554</td>\n",
       "      <td>541</td>\n",
       "    </tr>\n",
       "    <tr>\n",
       "      <th>16233625</th>\n",
       "      <td>01/01/2021 12:00:00 AM</td>\n",
       "      <td>16:00:00</td>\n",
       "      <td>5554</td>\n",
       "      <td>541</td>\n",
       "    </tr>\n",
       "    <tr>\n",
       "      <th>16233626</th>\n",
       "      <td>01/01/2021 12:00:00 AM</td>\n",
       "      <td>20:00:00</td>\n",
       "      <td>5554</td>\n",
       "      <td>541</td>\n",
       "    </tr>\n",
       "  </tbody>\n",
       "</table>\n",
       "</div>"
      ],
      "text/plain": [
       "                            DATE      TIME  ENTRIES  EXITS\n",
       "16233622  01/01/2021 12:00:00 AM  04:00:00     5554    541\n",
       "16233623  01/01/2021 12:00:00 AM  08:00:00     5554    541\n",
       "16233624  01/01/2021 12:00:00 AM  12:00:00     5554    541\n",
       "16233625  01/01/2021 12:00:00 AM  16:00:00     5554    541\n",
       "16233626  01/01/2021 12:00:00 AM  20:00:00     5554    541"
      ]
     },
     "execution_count": 21,
     "metadata": {},
     "output_type": "execute_result"
    }
   ],
   "source": [
    "mta.tail()"
   ]
  },
  {
   "cell_type": "code",
   "execution_count": 5,
   "metadata": {},
   "outputs": [],
   "source": [
    "#removing unnecessary columns\n",
    "mta.drop(['C/A', 'UNIT', 'SCP', 'STATION', 'LINENAME','DIVISION','DESC'],\n",
    "        inplace=True,\n",
    "        axis=1)"
   ]
  },
  {
   "cell_type": "code",
   "execution_count": 11,
   "metadata": {},
   "outputs": [
    {
     "data": {
      "text/plain": [
       "DATE       0\n",
       "TIME       0\n",
       "ENTRIES    0\n",
       "EXITS      0\n",
       "dtype: int64"
      ]
     },
     "execution_count": 11,
     "metadata": {},
     "output_type": "execute_result"
    }
   ],
   "source": [
    "# checking for null data (horay there isn't any)\n",
    "mta.isna().sum()"
   ]
  },
  {
   "cell_type": "code",
   "execution_count": 19,
   "metadata": {},
   "outputs": [],
   "source": [
    "#simplifying the date column (removing timestamp)\n"
   ]
  },
  {
   "cell_type": "code",
   "execution_count": null,
   "metadata": {},
   "outputs": [],
   "source": []
  }
 ],
 "metadata": {
  "kernelspec": {
   "display_name": "Python 3",
   "language": "python",
   "name": "python3"
  },
  "language_info": {
   "codemirror_mode": {
    "name": "ipython",
    "version": 3
   },
   "file_extension": ".py",
   "mimetype": "text/x-python",
   "name": "python",
   "nbconvert_exporter": "python",
   "pygments_lexer": "ipython3",
   "version": "3.8.5"
  }
 },
 "nbformat": 4,
 "nbformat_minor": 4
}
