{
 "cells": [
  {
   "cell_type": "markdown",
   "metadata": {},
   "source": [
    "This notebook will be for data cleaning"
   ]
  },
  {
   "cell_type": "markdown",
   "metadata": {},
   "source": [
    "Problem statement:\n",
    "We are trying to optimize the WTWY signature-gathering team's placement for raising awareness of upcoming gala in June 2019. \n",
    "\n",
    "The end goals:\n",
    "1. rank stations by foot traffic\n",
    "2. plot 5 top stations by total traffic - hourly, daily, weekly\n",
    "3. analyze demographics for top 5 stations - gender, income, industry\n",
    "4. create scorecard with weighed combination of factors for each station"
   ]
  },
  {
   "cell_type": "code",
   "execution_count": 1,
   "metadata": {},
   "outputs": [],
   "source": [
    "import pandas as pd"
   ]
  },
  {
   "cell_type": "code",
   "execution_count": 2,
   "metadata": {},
   "outputs": [],
   "source": [
    "def get_data(week_nums):\n",
    "    url = \"http://web.mta.info/developers/data/nyct/turnstile/turnstile_{}.txt\"\n",
    "    dfs = []\n",
    "    for week_num in week_nums:\n",
    "        file_url = url.format(week_num)\n",
    "        dfs.append(pd.read_csv(file_url))\n",
    "    return pd.concat(dfs,ignore_index=True)\n",
    "        \n",
    "week_nums = [190504,190511,190518,190525]\n",
    "mta_df = get_data(week_nums)"
   ]
  },
  {
   "cell_type": "code",
   "execution_count": 3,
   "metadata": {},
   "outputs": [],
   "source": [
    "# fixing EXITS label\n",
    "mta_df.rename(columns={\"EXITS                                                               \":'EXITS'},inplace=True)"
   ]
  },
  {
   "cell_type": "code",
   "execution_count": 5,
   "metadata": {},
   "outputs": [],
   "source": [
    "# converting to datetime\n",
    "mta_df[\"DATE_TIME\"] = pd.to_datetime(mta_df.DATE + \" \" + mta_df.TIME, \n",
    "                                            format=\"%m/%d/%Y %H:%M:%S\")"
   ]
  },
  {
   "cell_type": "code",
   "execution_count": 6,
   "metadata": {},
   "outputs": [],
   "source": [
    "# dropping duplicates\n",
    "mta_df.sort_values([\"C/A\", \"UNIT\", \"SCP\", \"STATION\", \"DATE_TIME\"], \n",
    "                          inplace=True, ascending=False)\n",
    "\n",
    "mta_df.drop_duplicates(subset=[\"C/A\", \"UNIT\", \"SCP\", \"STATION\", \"DATE_TIME\"], inplace=True)"
   ]
  },
  {
   "cell_type": "code",
   "execution_count": 7,
   "metadata": {},
   "outputs": [
    {
     "name": "stderr",
     "output_type": "stream",
     "text": [
      "<ipython-input-7-277383eb6d8a>:1: FutureWarning: Indexing with multiple keys (implicitly converted to a tuple of keys) will be deprecated, use a list instead.\n",
      "  mta_daily = (mta_df\n"
     ]
    }
   ],
   "source": [
    "# creating daily df\n",
    "mta_daily = (mta_df\n",
    "                        .groupby([\"C/A\", \"UNIT\", \"SCP\", \"STATION\", \"DATE\"],as_index=False)\n",
    "                        ['ENTRIES','EXITS'].first())"
   ]
  },
  {
   "cell_type": "code",
   "execution_count": 8,
   "metadata": {},
   "outputs": [
    {
     "name": "stderr",
     "output_type": "stream",
     "text": [
      "<ipython-input-8-cbbfde3ea405>:2: FutureWarning: Indexing with multiple keys (implicitly converted to a tuple of keys) will be deprecated, use a list instead.\n",
      "  mta_daily[[\"PREV_DATE\", \"PREV_ENTRIES\",\"PREV_EXITS\"]] = (mta_daily\n",
      "<ipython-input-8-cbbfde3ea405>:6: FutureWarning: Indexing with multiple keys (implicitly converted to a tuple of keys) will be deprecated, use a list instead.\n",
      "  mta_df[[\"PREV_DATE\", \"PREV_ENTRIES\",\"PREV_EXITS\"]] = (mta_df\n"
     ]
    }
   ],
   "source": [
    "# creating previous entries, previous exits, previous date\n",
    "mta_daily[[\"PREV_DATE\", \"PREV_ENTRIES\",\"PREV_EXITS\"]] = (mta_daily\n",
    "                                                       .groupby([\"C/A\", \"UNIT\", \"SCP\", \"STATION\"])[\"DATE\", \"ENTRIES\",'EXITS']\n",
    "                                                       .apply(lambda grp: grp.shift(1)))\n",
    "\n",
    "mta_df[[\"PREV_DATE\", \"PREV_ENTRIES\",\"PREV_EXITS\"]] = (mta_df\n",
    "                                                       .groupby([\"C/A\", \"UNIT\", \"SCP\", \"STATION\"])[\"DATE\", \"ENTRIES\",'EXITS']\n",
    "                                                       .apply(lambda grp: grp.shift(1)))"
   ]
  },
  {
   "cell_type": "code",
   "execution_count": 9,
   "metadata": {},
   "outputs": [],
   "source": [
    "# dropping NAs in the new columns\n",
    "mta_daily.dropna(subset=[\"PREV_DATE\"], axis=0, inplace=True)\n",
    "mta_df.dropna(subset=[\"PREV_DATE\"], axis=0, inplace=True)"
   ]
  },
  {
   "cell_type": "code",
   "execution_count": 10,
   "metadata": {},
   "outputs": [],
   "source": [
    "# calculating real daily entries and exits\n",
    "def get_real_entries(row, max_counter):\n",
    "    counter = row[\"ENTRIES\"] - row[\"PREV_ENTRIES\"]\n",
    "    if counter < 0:\n",
    "        # Maybe counter is reversed?\n",
    "        counter = -counter\n",
    "    if counter > max_counter:\n",
    "        # Maybe counter was reset to 0? \n",
    "        print(row[\"ENTRIES\"], row[\"PREV_ENTRIES\"])\n",
    "        counter = min(row[\"ENTRIES\"], row[\"PREV_ENTRIES\"])\n",
    "    if counter > max_counter:\n",
    "        # Check it again to make sure we're not still giving a counter that's too big\n",
    "        return 0\n",
    "    return counter\n",
    "\n",
    "def get_real_exits(row, max_counter):\n",
    "    counter = row[\"EXITS\"] - row[\"PREV_EXITS\"]\n",
    "    if counter < 0:\n",
    "        # Maybe counter is reversed?\n",
    "        counter = -counter\n",
    "    if counter > max_counter:\n",
    "        # Maybe counter was reset to 0? \n",
    "        print(row[\"EXITS\"], row[\"PREV_EXITS\"])\n",
    "        counter = min(row[\"EXITS\"], row[\"PREV_EXITS\"])\n",
    "    if counter > max_counter:\n",
    "        # Check it again to make sure we're not still giving a counter that's too big\n",
    "        return 0\n",
    "    return counter"
   ]
  },
  {
   "cell_type": "code",
   "execution_count": 12,
   "metadata": {},
   "outputs": [
    {
     "name": "stdout",
     "output_type": "stream",
     "text": [
      "142 1087600.0\n",
      "769 15418705.0\n",
      "1377 4767345.0\n",
      "335092173 3421982.0\n",
      "134 3072837.0\n",
      "39 4605263.0\n",
      "131075 2222463.0\n",
      "2223006 131075.0\n",
      "423 6527507.0\n",
      "569320761 4807349.0\n",
      "170 9029061.0\n",
      "65536 839317244.0\n",
      "184608339 746400.0\n",
      "190 2898303.0\n",
      "50 1544151.0\n",
      "524 3911943.0\n",
      "196614 2998634.0\n",
      "326 3755677.0\n",
      "735 2021820.0\n",
      "132051 737507.0\n",
      "2436 6998906.0\n",
      "273 8876303.0\n",
      "1178879221 4472670.0\n",
      "1208 649229.0\n",
      "457 898588.0\n",
      "6582 2204424.0\n",
      "2469 666500.0\n",
      "196626 68461837.0\n",
      "146 36965539.0\n",
      "873 862763.0\n",
      "907 2357444.0\n",
      "12 4887261.0\n",
      "767 9441238.0\n",
      "1058618 102390450.0\n",
      "2084 7603756.0\n",
      "1198 1068342.0\n",
      "155 724250.0\n",
      "1415 568665.0\n",
      "148 6333363.0\n",
      "30933984 6069289.0\n",
      "115 12739117.0\n",
      "1121 6546757.0\n",
      "16779383 81078.0\n",
      "637574735 2502638.0\n",
      "68859001 436510383.0\n",
      "607126675 594262.0\n",
      "140397276 1577638216.0\n",
      "458752 100663296.0\n",
      "119 7480347.0\n",
      "683737068 458752.0\n",
      "905996399 3558247.0\n",
      "3 5176463.0\n",
      "1715 13653626.0\n",
      "182 10462950.0\n",
      "2063649350 8123276.0\n",
      "1129054802 2501541.0\n",
      "737 1258061.0\n",
      "1030 7550494.0\n",
      "1505 2816352.0\n",
      "335091922 2642828.0\n",
      "36 906149.0\n",
      "6 1931961.0\n",
      "65543 1928559.0\n",
      "1933095 65543.0\n",
      "1324 8479873.0\n",
      "569323125 9992260.0\n",
      "61 2842368.0\n",
      "2 167841841.0\n",
      "16786259 71903.0\n",
      "360 2357922.0\n",
      "302 2844689.0\n",
      "175 3657117.0\n",
      "12 7146281.0\n",
      "98 2893074.0\n",
      "1675 2882732.0\n",
      "889 5149799.0\n",
      "266 5013122.0\n",
      "0 1458089.0\n",
      "1875 796408.0\n",
      "1945 607998.0\n",
      "622888 1993882.0\n",
      "2001092 622888.0\n",
      "0 1057781.0\n",
      "1549 628744.0\n",
      "55 17065751.0\n",
      "258 89243255.0\n",
      "615 566353.0\n",
      "691 2373066.0\n",
      "6 12407647.0\n",
      "334 10391886.0\n",
      "262710 51050907.0\n",
      "5117 15978533.0\n",
      "2235 2658987.0\n",
      "298 1412860.0\n",
      "1486 19344979.0\n",
      "30938771 3462658.0\n",
      "23 6526812.0\n",
      "510 4057731.0\n",
      "587237323 2344908.0\n",
      "68917121 453265465.0\n",
      "1008468803 237100.0\n",
      "51950817 402888635.0\n",
      "7 16777630.0\n",
      "162 13226916.0\n",
      "638320619 196.0\n",
      "318827841 1250023.0\n",
      "40 2249790.0\n",
      "937 8665111.0\n",
      "183 5317497.0\n",
      "167819239 690010.0\n",
      "1078346838 432.0\n",
      "2501642 1129054485.0\n",
      "8123329 2063648840.0\n",
      "10463114 84.0\n",
      "13653626 7.0\n",
      "5176463 0.0\n",
      "3558247 905996203.0\n",
      "458752 683737068.0\n",
      "7480484 119.0\n",
      "100663296 458752.0\n",
      "1577638984 140396510.0\n",
      "594469 607125572.0\n",
      "436510383 68858058.0\n",
      "2503363 637573806.0\n",
      "81157 16778671.0\n",
      "6546797 107.0\n",
      "12739117 115.0\n",
      "6069289 30933207.0\n",
      "6333363 29.0\n",
      "568665 251.0\n",
      "724371 57.0\n",
      "1068632 254.0\n",
      "7603756 10.0\n",
      "102390700 1058563.0\n",
      "9441238 7.0\n",
      "4887309 12.0\n",
      "2357557 182.0\n",
      "863855 157.0\n",
      "36966629 146.0\n",
      "68461853 196625.0\n",
      "666660 244.0\n",
      "2204424 4666.0\n",
      "899309 44.0\n",
      "5533 590624.0\n",
      "590531 5533.0\n",
      "230239 1888605.0\n",
      "1887921 230239.0\n",
      "649237 800.0\n",
      "4472670 1178879075.0\n",
      "8876720 72.0\n",
      "6999851 158.0\n",
      "737713 131182.0\n",
      "2021820 8.0\n",
      "3756473 326.0\n",
      "2998692 196614.0\n",
      "3912187 39.0\n",
      "1544151 50.0\n",
      "2898346 70.0\n",
      "746400 184608117.0\n",
      "839317244 65536.0\n",
      "9030142 170.0\n",
      "4807409 569319973.0\n",
      "6527930 423.0\n",
      "131075 2223006.0\n",
      "2222584 131075.0\n",
      "4605762 39.0\n",
      "3073070 134.0\n",
      "3422305 335090794.0\n",
      "4768484 1150.0\n",
      "15418871 191.0\n",
      "1087620 67.0\n",
      "432 1078346838.0\n",
      "690084 167819158.0\n",
      "5317691 72.0\n",
      "8665111 0.0\n",
      "2249790 27.0\n",
      "1250027 318827573.0\n",
      "196 638320619.0\n",
      "13227197 162.0\n",
      "16777630 7.0\n",
      "402888790 51950488.0\n",
      "237277 1008468266.0\n",
      "453265807 68916176.0\n",
      "2345471 587236415.0\n",
      "4057771 67.0\n",
      "6526813 23.0\n",
      "3462658 30938688.0\n",
      "19344979 426.0\n",
      "10441305 5074083.0\n",
      "5072813 10441176.0\n",
      "5073938 10441409.0\n",
      "10440534 5073666.0\n",
      "1413088 139.0\n",
      "2659530 612.0\n",
      "15978533 19.0\n",
      "51050926 262707.0\n",
      "10391886 0.0\n",
      "12407742 6.0\n",
      "2373104 200.0\n",
      "566989 115.0\n",
      "89244150 258.0\n",
      "17065808 30.0\n",
      "0 508321.0\n",
      "507848 0.0\n",
      "84702 1229570.0\n",
      "1229396 84702.0\n",
      "83514 1224167.0\n",
      "1223982 83514.0\n",
      "628744 0.0\n",
      "1057781 3636.0\n",
      "624656 2000750.0\n",
      "2000296 624656.0\n",
      "624497 2000296.0\n",
      "1999342 624497.0\n",
      "623081 1999342.0\n",
      "1997397 623081.0\n",
      "622898 1997397.0\n",
      "1997374 622898.0\n",
      "622888 1997374.0\n",
      "1997331 622888.0\n",
      "622856 1997331.0\n",
      "1996873 622856.0\n",
      "622596 1996873.0\n",
      "1996577 622596.0\n",
      "622416 1996577.0\n",
      "1994541 622416.0\n",
      "620887 1994541.0\n",
      "1993886 620887.0\n",
      "620860 1993882.0\n",
      "1993816 620860.0\n",
      "620813 1993816.0\n",
      "1993552 620813.0\n",
      "620625 1993552.0\n",
      "1993181 620625.0\n",
      "620457 1993181.0\n",
      "1993002 620457.0\n",
      "620436 1993002.0\n",
      "1992973 620436.0\n",
      "620420 1992973.0\n",
      "1992884 620420.0\n",
      "620363 1992884.0\n",
      "1992570 620363.0\n",
      "620155 1992570.0\n",
      "1992156 620155.0\n",
      "619886 1992156.0\n",
      "1991619 619886.0\n",
      "619726 1991619.0\n",
      "1991418 619726.0\n",
      "608288 216.0\n",
      "796646 178.0\n",
      "1458138 0.0\n",
      "5013382 57.0\n",
      "5150478 105.0\n",
      "2882732 13.0\n",
      "2893961 98.0\n",
      "7146400 12.0\n",
      "3657233 9.0\n",
      "2844689 302.0\n",
      "2358031 59.0\n",
      "71903 16785950.0\n",
      "167841841 2.0\n",
      "2842577 61.0\n",
      "9992360 569321448.0\n",
      "8480804 1324.0\n",
      "65543 1933095.0\n",
      "1928559 65543.0\n",
      "1932161 6.0\n",
      "906192 36.0\n",
      "2643003 335091288.0\n",
      "2816760 910.0\n",
      "7551005 169.0\n",
      "1258293 246.0\n"
     ]
    }
   ],
   "source": [
    "# applying functions to both dataframes\n",
    "mta_daily[\"REAL_ENTRIES\"] = mta_daily.apply(get_real_entries, axis=1, max_counter=500000);\n",
    "mta_daily[\"REAL_EXITS\"] = mta_daily.apply(get_real_exits, axis=1, max_counter=500000);\n",
    "\n",
    "mta_df['REAL_ENTRIES'] = mta_df.apply(get_real_entries, axis=1, max_counter=500000)\n",
    "mta_df[\"REAL_EXITS\"] = mta_df.apply(get_real_exits, axis=1, max_counter=500000)"
   ]
  },
  {
   "cell_type": "code",
   "execution_count": 16,
   "metadata": {},
   "outputs": [],
   "source": [
    "# dropping highest 1% of daily entries and activity\n",
    "quant_filt = 0.99\n",
    "\n",
    "q = mta_df[\"REAL_ENTRIES\"].quantile(quant_filt)\n",
    "\n",
    "mta_df = mta_df[mta_df[\"REAL_ENTRIES\"] < q]\n",
    "\n",
    "r = mta_df[\"REAL_ENTRIES\"].quantile(quant_filt)\n",
    "\n",
    "data = mta_df[mta_df[\"REAL_ENTRIES\"] < r]\n",
    "\n",
    "data = mta_df.dropna() # apparently no issues with NaN cells; running as best practice"
   ]
  },
  {
   "cell_type": "code",
   "execution_count": 17,
   "metadata": {},
   "outputs": [
    {
     "name": "stderr",
     "output_type": "stream",
     "text": [
      "<ipython-input-17-0ead29a1e06d>:3: SettingWithCopyWarning: \n",
      "A value is trying to be set on a copy of a slice from a DataFrame.\n",
      "Try using .loc[row_indexer,col_indexer] = value instead\n",
      "\n",
      "See the caveats in the documentation: https://pandas.pydata.org/pandas-docs/stable/user_guide/indexing.html#returning-a-view-versus-a-copy\n",
      "  mta_df['REAL_ACTIVITY'] = mta_df['REAL_ENTRIES'] + mta_df['REAL_EXITS']\n"
     ]
    }
   ],
   "source": [
    "# new column of daily activity\n",
    "mta_daily['REAL_ACTIVITY'] = mta_daily['REAL_ENTRIES'] + mta_daily['REAL_EXITS']\n",
    "mta_df['REAL_ACTIVITY'] = mta_df['REAL_ENTRIES'] + mta_df['REAL_EXITS']"
   ]
  },
  {
   "cell_type": "code",
   "execution_count": 29,
   "metadata": {},
   "outputs": [],
   "source": [
    "# top 10 stations by real activity per day\n",
    "daily_top10 = (mta_daily.groupby(['STATION'])['REAL_ACTIVITY'].sum()\n",
    "                   .reset_index()\n",
    "                   .sort_values(by='REAL_ACTIVITY',ascending=False) \n",
    "                   .head(10)\n",
    "                 )"
   ]
  },
  {
   "cell_type": "code",
   "execution_count": 27,
   "metadata": {},
   "outputs": [
    {
     "data": {
      "image/png": "[encoded data removed]",
      "text/plain": [
       "<Figure size 432x288 with 1 Axes>"
      ]
     },
     "metadata": {
      "needs_background": "light"
     },
     "output_type": "display_data"
    }
   ],
   "source": [
    "# plotting top 10 stations by daily activity\n",
    "import matplotlib.pyplot as plt\n",
    "%matplotlib inline\n",
    "\n",
    "plt.bar('STATION','REAL_ACTIVITY',data=daily_top10);\n",
    "plt.xticks(rotation=300);"
   ]
  },
  {
   "cell_type": "markdown",
   "metadata": {},
   "source": [
    "# Working with hourly data"
   ]
  },
  {
   "cell_type": "code",
   "execution_count": 129,
   "metadata": {},
   "outputs": [],
   "source": [
    "# creating objects for each station to plot\n",
    "mask = (mta_df['STATION'] == '34 ST-PENN STA')\n",
    "penn = mta_df[mask]\n",
    "\n",
    "mask = (mta_df['STATION'] == 'GRD CNTRL-42 ST')\n",
    "cntr = mta_df[mask]\n",
    "\n",
    "mask = (mta_df['STATION'] == '34 ST-HERALD SQ')\n",
    "herald = mta_df[mask]"
   ]
  },
  {
   "cell_type": "code",
   "execution_count": 130,
   "metadata": {},
   "outputs": [
    {
     "name": "stderr",
     "output_type": "stream",
     "text": [
      "<ipython-input-130-9f3076bd3f86>:2: SettingWithCopyWarning: \n",
      "A value is trying to be set on a copy of a slice from a DataFrame.\n",
      "Try using .loc[row_indexer,col_indexer] = value instead\n",
      "\n",
      "See the caveats in the documentation: https://pandas.pydata.org/pandas-docs/stable/user_guide/indexing.html#returning-a-view-versus-a-copy\n",
      "  penn['HOUR'] = penn['DATE_TIME'].apply(lambda x: x.hour)\n",
      "<ipython-input-130-9f3076bd3f86>:3: SettingWithCopyWarning: \n",
      "A value is trying to be set on a copy of a slice from a DataFrame.\n",
      "Try using .loc[row_indexer,col_indexer] = value instead\n",
      "\n",
      "See the caveats in the documentation: https://pandas.pydata.org/pandas-docs/stable/user_guide/indexing.html#returning-a-view-versus-a-copy\n",
      "  cntr['HOUR'] = cntr['DATE_TIME'].apply(lambda x: x.hour)\n",
      "<ipython-input-130-9f3076bd3f86>:4: SettingWithCopyWarning: \n",
      "A value is trying to be set on a copy of a slice from a DataFrame.\n",
      "Try using .loc[row_indexer,col_indexer] = value instead\n",
      "\n",
      "See the caveats in the documentation: https://pandas.pydata.org/pandas-docs/stable/user_guide/indexing.html#returning-a-view-versus-a-copy\n",
      "  herald['HOUR'] = herald['DATE_TIME'].apply(lambda x: x.hour)\n"
     ]
    }
   ],
   "source": [
    "# ATTEMPTING TO BIN INTO HOURS\n",
    "penn['HOUR'] = penn['DATE_TIME'].apply(lambda x: x.hour)\n",
    "cntr['HOUR'] = cntr['DATE_TIME'].apply(lambda x: x.hour)\n",
    "herald['HOUR'] = herald['DATE_TIME'].apply(lambda x: x.hour)"
   ]
  },
  {
   "cell_type": "code",
   "execution_count": 212,
   "metadata": {},
   "outputs": [
    {
     "data": {
      "text/plain": [
       "HOUR\n",
       "0       85597.0\n",
       "2       36364.0\n",
       "4      585291.0\n",
       "6      349129.0\n",
       "7        2109.0\n",
       "8     1217012.0\n",
       "9       18223.0\n",
       "10     414631.0\n",
       "11       1701.0\n",
       "12    1122841.0\n",
       "14     686271.0\n",
       "16    1839211.0\n",
       "18     453279.0\n",
       "20     559787.0\n",
       "22     118859.0\n",
       "Name: REAL_ACTIVITY, dtype: float64"
      ]
     },
     "execution_count": 212,
     "metadata": {},
     "output_type": "execute_result"
    }
   ],
   "source": [
    "penn_hr = penn.groupby('HOUR')['REAL_ACTIVITY'].sum()#.reset_index()\n",
    "cntr_hr = cntr.groupby('HOUR')['REAL_ACTIVITY'].sum()#.reset_index()\n",
    "herald_hr = herald.groupby('HOUR')['REAL_ACTIVITY'].sum()#.reset_index()\n",
    "penn_hr"
   ]
  },
  {
   "cell_type": "markdown",
   "metadata": {},
   "source": [
    "Wait a minute, what is this really saying? This is the sum of all traffic for the whole dataset. There's no way that there are over a million people passing through penn station at 4pm each day. I need to divide these numbers by the number of days in the whole dataset!"
   ]
  },
  {
   "cell_type": "code",
   "execution_count": 200,
   "metadata": {},
   "outputs": [
    {
     "data": {
      "text/plain": [
       "28"
      ]
     },
     "execution_count": 200,
     "metadata": {},
     "output_type": "execute_result"
    }
   ],
   "source": [
    "# finding the number of days in the whole dataset\n",
    "len(mta_df.DATE.unique())"
   ]
  },
  {
   "cell_type": "code",
   "execution_count": 203,
   "metadata": {},
   "outputs": [
    {
     "data": {
      "text/plain": [
       "pandas.core.series.Series"
      ]
     },
     "execution_count": 203,
     "metadata": {},
     "output_type": "execute_result"
    }
   ],
   "source": [
    "type(penn_hr)"
   ]
  },
  {
   "cell_type": "code",
   "execution_count": 211,
   "metadata": {},
   "outputs": [
    {
     "data": {
      "text/plain": [
       "HOUR\n",
       "0      109.179847\n",
       "2       46.382653\n",
       "4      746.544643\n",
       "6      445.317602\n",
       "7        2.690051\n",
       "8     1552.311224\n",
       "9       23.243622\n",
       "10     528.866071\n",
       "11       2.169643\n",
       "12    1432.195153\n",
       "14     875.345663\n",
       "16    2345.932398\n",
       "18     578.161990\n",
       "20     714.014031\n",
       "22     151.605867\n",
       "Name: SUM_ACTIVITY, dtype: float64"
      ]
     },
     "execution_count": 211,
     "metadata": {},
     "output_type": "execute_result"
    }
   ],
   "source": [
    "# new column showing avg daily activity during that hour, and clarification of sum activity\n",
    "penn_hr = penn_hr / 28\n",
    "cntr_hr = cntr_hr / 28\n",
    "herald_hr = herald_hr "
   ]
  },
  {
   "cell_type": "markdown",
   "metadata": {},
   "source": [
    "# Now I will plot the three top stations by hour"
   ]
  },
  {
   "cell_type": "code",
   "execution_count": 191,
   "metadata": {
    "scrolled": false
   },
   "outputs": [
    {
     "data": {
      "image/png": "[encoded data removed]",
      "text/plain": [
       "<Figure size 432x288 with 1 Axes>"
      ]
     },
     "metadata": {
      "needs_background": "light"
     },
     "output_type": "display_data"
    },
    {
     "data": {
      "text/plain": [
       "<Figure size 7200x7200 with 0 Axes>"
      ]
     },
     "metadata": {},
     "output_type": "display_data"
    }
   ],
   "source": [
    "plt.plot(penn_hr,label='Penn Station');\n",
    "plt.plot(cntr_hr,label='Central Station');\n",
    "plt.plot(herald_hr,label='Herald Station');\n",
    "plt.title('Hourly Activity at the Busiest Three Stations');\n",
    "plt.xlabel('Time (hrs)');\n",
    "plt.ylabel('Traffic (millions of commuters)')\n",
    "\n",
    "plt.legend()\n",
    "plt.figure(figsize=(100,100))\n",
    "plt.savefig(fname='hourly_top3',format='svg')"
   ]
  },
  {
   "cell_type": "markdown",
   "metadata": {},
   "source": [
    "## Station-by-Station Analysis"
   ]
  },
  {
   "cell_type": "code",
   "execution_count": 195,
   "metadata": {},
   "outputs": [
    {
     "data": {
      "text/plain": [
       "Text(0.5, 1.0, 'Traffic through Penn Station per Hour')"
      ]
     },
     "execution_count": 195,
     "metadata": {},
     "output_type": "execute_result"
    },
    {
     "data": {
      "image/png": "[encoded data removed]",
      "text/plain": [
       "<Figure size 432x288 with 1 Axes>"
      ]
     },
     "metadata": {
      "needs_background": "light"
     },
     "output_type": "display_data"
    }
   ],
   "source": [
    "# analysis of Penn station by hour\n",
    "plt.plot(penn_hr);\n",
    "plt.xlabel('Time (hours)')\n",
    "plt.ylabel('Traffic (millions of commuters)')\n",
    "plt.title('Traffic through Penn Station per Hour')"
   ]
  },
  {
   "cell_type": "code",
   "execution_count": null,
   "metadata": {},
   "outputs": [],
   "source": []
  }
 ],
 "metadata": {
  "kernelspec": {
   "display_name": "Python 3",
   "language": "python",
   "name": "python3"
  },
  "language_info": {
   "codemirror_mode": {
    "name": "ipython",
    "version": 3
   },
   "file_extension": ".py",
   "mimetype": "text/x-python",
   "name": "python",
   "nbconvert_exporter": "python",
   "pygments_lexer": "ipython3",
   "version": "3.8.5"
  }
 },
 "nbformat": 4,
 "nbformat_minor": 4
}
